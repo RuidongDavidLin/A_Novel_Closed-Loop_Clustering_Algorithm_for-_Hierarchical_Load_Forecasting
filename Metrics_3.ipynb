{
 "cells": [
  {
   "cell_type": "code",
   "execution_count": 1,
   "id": "c22d50ad",
   "metadata": {},
   "outputs": [
    {
     "name": "stdout",
     "output_type": "stream",
     "text": [
      "                    MAE      MAPE\n",
      "CLC           60.310406  4.188953\n",
      "Ensemble      60.500672  4.188491\n",
      "GMM           61.207407  4.238648\n",
      "K-means       61.120311  4.233868\n",
      "Up_to_Down    62.772172  4.392213\n",
      "Bottom_to_Up  63.096759  4.390511\n"
     ]
    }
   ],
   "source": [
    "import os\n",
    "import numpy as np\n",
    "import pandas as pd\n",
    "\n",
    "\n",
    "\n",
    "\n",
    "path    = \"Process_3\\\\\"\n",
    "methods = ['CLC', 'Ensemble', 'GMM', 'K-means', 'Up_to_Down', 'Bottom_to_Up']\n",
    "\n",
    "Metrics_data = {method:{\"MAE\":None,\"MAPE\":None} for method in methods}\n",
    "\n",
    "for method in methods:\n",
    "    MAE     = 0\n",
    "    MAPE    = 0\n",
    "    pred = np.load(path+method+\"\\\\\"+\"predict_result.npy\")\n",
    "    test = np.load(path+method+\"\\\\\"+\"test_result.npy\")\n",
    "    \n",
    "    MAE  += np.mean(np.abs(pred-test))\n",
    "    MAPE += np.mean(np.abs(pred-test)/test)*100\n",
    "    \n",
    "    Metrics_data[method]['MAE'] = MAE\n",
    "    Metrics_data[method]['MAPE'] = MAPE\n",
    "    \n",
    "\n",
    "\n",
    "df = pd.DataFrame(Metrics_data).T  # 转置，让方法名在行上\n",
    "print(df)"
   ]
  },
  {
   "cell_type": "code",
   "execution_count": 2,
   "id": "0df13bcb",
   "metadata": {},
   "outputs": [
    {
     "name": "stdout",
     "output_type": "stream",
     "text": [
      "\n",
      "Formatted LaTeX table rows:\n",
      "\n",
      "CLC          &     60.310 &   4.189\\% \\\\\n",
      "Ensemble     &     60.501 &   4.188\\% \\\\\n",
      "GMM          &     61.207 &   4.239\\% \\\\\n",
      "K-means      &     61.120 &   4.234\\% \\\\\n",
      "Up to Down   &     62.772 &   4.392\\% \\\\\n",
      "Bottom to Up &     63.097 &   4.391\\% \\\\\n"
     ]
    }
   ],
   "source": [
    "print(\"\\nFormatted LaTeX table rows:\\n\")\n",
    "\n",
    "for method, row in df.iterrows():\n",
    "    print(f\"{method.replace('_', ' '):<13}& {row['MAE']:>10.3f} & {row['MAPE']:>7.3f}\\\\% \\\\\\\\\")"
   ]
  }
 ],
 "metadata": {
  "kernelspec": {
   "display_name": "HLF",
   "language": "python",
   "name": "python3"
  },
  "language_info": {
   "codemirror_mode": {
    "name": "ipython",
    "version": 3
   },
   "file_extension": ".py",
   "mimetype": "text/x-python",
   "name": "python",
   "nbconvert_exporter": "python",
   "pygments_lexer": "ipython3",
   "version": "3.9.21"
  }
 },
 "nbformat": 4,
 "nbformat_minor": 5
}
