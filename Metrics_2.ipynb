{
 "cells": [
  {
   "cell_type": "code",
   "execution_count": 1,
   "id": "c22d50ad",
   "metadata": {},
   "outputs": [
    {
     "name": "stdout",
     "output_type": "stream",
     "text": [
      "                    MAE      MAPE\n",
      "CLC           28.695915  3.717659\n",
      "Ensemble      28.173209  3.642006\n",
      "GMM           28.706634  3.723235\n",
      "K-means       28.660748  3.703187\n",
      "Up_to_Down    28.706634  3.723235\n",
      "Bottom_to_Up  53.069500  6.482217\n"
     ]
    }
   ],
   "source": [
    "import os\n",
    "import numpy as np\n",
    "import pandas as pd\n",
    "\n",
    "\n",
    "\n",
    "\n",
    "path    = \"Process_2\\\\\"\n",
    "methods = ['CLC', 'Ensemble', 'GMM', 'K-means', 'Up_to_Down', 'Bottom_to_Up']\n",
    "\n",
    "Metrics_data = {method:{\"MAE\":None,\"MAPE\":None} for method in methods}\n",
    "\n",
    "for method in methods:\n",
    "    MAE     = 0\n",
    "    MAPE    = 0\n",
    "    pred = np.load(path+method+\"\\\\\"+\"predict_result.npy\")\n",
    "    test = np.load(path+method+\"\\\\\"+\"test_result.npy\")\n",
    "    \n",
    "    MAE  += np.mean(np.abs(pred-test))\n",
    "    MAPE += np.mean(np.abs(pred-test)/test)*100\n",
    "    \n",
    "    Metrics_data[method]['MAE'] = MAE\n",
    "    Metrics_data[method]['MAPE'] = MAPE\n",
    "    \n",
    "\n",
    "\n",
    "df = pd.DataFrame(Metrics_data).T  # 转置，让方法名在行上\n",
    "print(df)"
   ]
  },
  {
   "cell_type": "code",
   "execution_count": 2,
   "id": "ce57f1eb",
   "metadata": {},
   "outputs": [
    {
     "name": "stdout",
     "output_type": "stream",
     "text": [
      "\n",
      "Formatted LaTeX table rows:\n",
      "\n",
      "CLC          &     28.696 &   3.718\\% \\\\\n",
      "Ensemble     &     28.173 &   3.642\\% \\\\\n",
      "GMM          &     28.707 &   3.723\\% \\\\\n",
      "K-means      &     28.661 &   3.703\\% \\\\\n",
      "Up to Down   &     28.707 &   3.723\\% \\\\\n",
      "Bottom to Up &     53.070 &   6.482\\% \\\\\n"
     ]
    }
   ],
   "source": [
    "print(\"\\nFormatted LaTeX table rows:\\n\")\n",
    "\n",
    "for method, row in df.iterrows():\n",
    "    print(f\"{method.replace('_', ' '):<13}& {row['MAE']:>10.3f} & {row['MAPE']:>7.3f}\\\\% \\\\\\\\\")"
   ]
  }
 ],
 "metadata": {
  "kernelspec": {
   "display_name": "HLF",
   "language": "python",
   "name": "python3"
  },
  "language_info": {
   "codemirror_mode": {
    "name": "ipython",
    "version": 3
   },
   "file_extension": ".py",
   "mimetype": "text/x-python",
   "name": "python",
   "nbconvert_exporter": "python",
   "pygments_lexer": "ipython3",
   "version": "3.9.21"
  }
 },
 "nbformat": 4,
 "nbformat_minor": 5
}
