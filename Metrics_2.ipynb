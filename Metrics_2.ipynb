{
 "cells": [
  {
   "cell_type": "code",
   "execution_count": 5,
   "id": "c22d50ad",
   "metadata": {},
   "outputs": [
    {
     "name": "stdout",
     "output_type": "stream",
     "text": [
      "                    MAE      MAPE\n",
      "CLC           39.045262  1.092747\n",
      "Ensemble      35.115997  0.993064\n",
      "GMM           39.803001  1.110418\n",
      "K-means       38.302768  1.070833\n",
      "Up_to_Down    78.624627  2.198766\n",
      "Bottom_to_Up  65.974597  1.832767\n"
     ]
    }
   ],
   "source": [
    "import os\n",
    "import numpy as np\n",
    "import pandas as pd\n",
    "\n",
    "\n",
    "\n",
    "\n",
    "path    = \"Process_2\\\\\"\n",
    "methods = ['CLC', 'Ensemble', 'GMM', 'K-means', 'Up_to_Down', 'Bottom_to_Up']\n",
    "\n",
    "Metrics_data = {method:{\"MAE\":None,\"MAPE\":None} for method in methods}\n",
    "\n",
    "for method in methods:\n",
    "    MAE     = 0\n",
    "    MAPE    = 0\n",
    "    pred = np.load(path+method+\"\\\\\"+\"predict_result.npy\")\n",
    "    test = np.load(path+method+\"\\\\\"+\"test_result.npy\")\n",
    "    \n",
    "    MAE  += np.mean(np.abs(pred-test))\n",
    "    MAPE += np.mean(np.abs(pred-test)/test)*100\n",
    "    \n",
    "    Metrics_data[method]['MAE'] = MAE\n",
    "    Metrics_data[method]['MAPE'] = MAPE\n",
    "    \n",
    "\n",
    "\n",
    "df = pd.DataFrame(Metrics_data).T  # 转置，让方法名在行上\n",
    "print(df)"
   ]
  }
 ],
 "metadata": {
  "kernelspec": {
   "display_name": "HLF",
   "language": "python",
   "name": "python3"
  },
  "language_info": {
   "codemirror_mode": {
    "name": "ipython",
    "version": 3
   },
   "file_extension": ".py",
   "mimetype": "text/x-python",
   "name": "python",
   "nbconvert_exporter": "python",
   "pygments_lexer": "ipython3",
   "version": "3.9.21"
  }
 },
 "nbformat": 4,
 "nbformat_minor": 5
}
