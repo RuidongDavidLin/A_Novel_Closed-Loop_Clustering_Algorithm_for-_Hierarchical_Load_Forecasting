{
 "cells": [
  {
   "cell_type": "code",
   "execution_count": 9,
   "id": "5ad3ef7f",
   "metadata": {},
   "outputs": [],
   "source": [
    "import numpy as np\n",
    "# from statsmodels.tsa.arima.model import ARIMA\n",
    "\n",
    "# ----参数设定 Configuration----\n",
    "# Half-hourly data for 100 days => 100 * 48 = 4800 points\n",
    "HOURS_PER_DAY   = 24\n",
    "POINTS_PER_HOUR = 2  # half-hourly\n",
    "T_DAYS          = 100\n",
    "T = T_DAYS * HOURS_PER_DAY * POINTS_PER_HOUR\n",
    "\n",
    "# Number of latent classes and series per class\n",
    "K                   = 3\n",
    "SERIES_PER_CLASS    = 50\n",
    "N = K * SERIES_PER_CLASS  # total customers\n",
    "\n",
    "\n",
    "# 固定随机种子 fix seed \n",
    "rng = np.random.default_rng(42)\n",
    "\n",
    "t = np.arange(1, T + 1, dtype=float)  # time index starting at 1..T\n",
    "\n",
    "data_Folder = \"Simulated_data\\\\\"\n"
   ]
  },
  {
   "cell_type": "code",
   "execution_count": 10,
   "id": "2efaa924",
   "metadata": {},
   "outputs": [],
   "source": [
    "# ---- Components ----\n",
    "\n",
    "# (1) Seasonality component: daily cycle only, c_t = |sin(pi/24 * t)|  [Eq. (18)]\n",
    "c_t = np.abs(np.sin(np.pi / 24 * (t)))  # convert half-hour steps to hours\n",
    "\n",
    "# (2) Base trend component: d_t = phi2 * t^theta + phi1 * t + phi0  [Eq. (19)]\n",
    "d_t_class_1 = 7e-3 * t + 8\n",
    "d_t_class_2 = 0.35 * np.sqrt(t) + 8\n",
    "d_t_class_3 = 7e-7 * (t**2) - 2e-4 * t + 20\n",
    "\n",
    "\n",
    "# (3) White noise ω_t ~ ARIMA(0,0,0) i.e., i.i.d. white noise; then scaled by beta3 ∈ (9,10)\n",
    "# ARIMA(0,0,0) is white noise which is equal to noraml distribution\n",
    "def sample_noise(T):\n",
    "    beta3 = rng.uniform(9.0, 10.0)  # per paper: randomly generate in (9, 10)\n",
    "    return beta3 * rng.normal(0, 1, size=T)\n",
    "    # return 0 \n",
    "\n",
    "# (4) Temperature-related component T_t:\n",
    "T_t = np.load(data_Folder+'beijing_temp_halfhour_'+str(T_DAYS-1)+'.npy')\n",
    "\n",
    "# aaa = sample_noise(T)\n",
    "# print(aaa.shape)"
   ]
  },
  {
   "cell_type": "code",
   "execution_count": 11,
   "id": "5c3e6795",
   "metadata": {},
   "outputs": [
    {
     "name": "stdout",
     "output_type": "stream",
     "text": [
      "(150, 4800)\n",
      "(150, 4800)\n",
      "(150, 4800)\n",
      "(150, 4800)\n",
      "(150, 4800)\n",
      "(150, 4800)\n",
      "(150, 4800)\n",
      "(150, 4800)\n",
      "(150, 4800)\n",
      "(150, 4800)\n"
     ]
    }
   ],
   "source": [
    "beta1 = 1\n",
    "beta2 = 1\n",
    "beta4 = 1\n",
    "for index in range(1,11):\n",
    "    series = []\n",
    "    for customer in range(SERIES_PER_CLASS):\n",
    "        customer_1  = beta1*c_t + beta2*d_t_class_1 + sample_noise(T) + beta4*T_t\n",
    "        customer_2  = beta1*c_t + beta2*d_t_class_2 + sample_noise(T) + beta4*T_t\n",
    "        customer_3  = beta1*c_t + beta2*d_t_class_3 + sample_noise(T) + beta4*T_t\n",
    "        series.append(customer_1)\n",
    "        series.append(customer_2)\n",
    "        series.append(customer_3)\n",
    "    series = np.array(series)\n",
    "    print(series.shape)\n",
    "    np.save(data_Folder+\"simulated_load_\"+str(index),series)\n",
    "a = sample_noise(T)"
   ]
  },
  {
   "cell_type": "code",
   "execution_count": 12,
   "id": "5fcc6adc",
   "metadata": {},
   "outputs": [
    {
     "name": "stdout",
     "output_type": "stream",
     "text": [
      "41.6\n",
      "32.24871130596428\n",
      "35.168\n"
     ]
    }
   ],
   "source": [
    "print(d_t_class_1[-1])\n",
    "print(d_t_class_2[-1])\n",
    "print(d_t_class_3[-1])"
   ]
  }
 ],
 "metadata": {
  "kernelspec": {
   "display_name": "HLF",
   "language": "python",
   "name": "python3"
  },
  "language_info": {
   "codemirror_mode": {
    "name": "ipython",
    "version": 3
   },
   "file_extension": ".py",
   "mimetype": "text/x-python",
   "name": "python",
   "nbconvert_exporter": "python",
   "pygments_lexer": "ipython3",
   "version": "3.9.21"
  }
 },
 "nbformat": 4,
 "nbformat_minor": 5
}
