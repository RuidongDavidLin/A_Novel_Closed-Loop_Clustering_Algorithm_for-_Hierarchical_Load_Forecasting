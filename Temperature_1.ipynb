{
 "cells": [
  {
   "cell_type": "code",
   "execution_count": null,
   "id": "b0e6f3b7",
   "metadata": {},
   "outputs": [],
   "source": [
    "# fetch_beijing_temp_halfhour.py\n",
    "import sys, json, math, datetime as dt\n",
    "import numpy as np\n",
    "import urllib.request\n",
    "import urllib.parse\n",
    "import os\n",
    "\n",
    "# ---- 1) 设置时间范围：最近100天（不含今天），北京时区 ----\n",
    "# Open-Meteo 的历史接口通常有2~5天延迟，若失败可把 end_date 往前再推几天\n",
    "TZ = \"Asia/Shanghai\"\n",
    "# today = dt.date.today()\n",
    "# end_date = today - dt.timedelta(days=1)          # 昨天\n",
    "end_date = dt.date(2025, 9, 20)\n",
    "day_last = 799\n",
    "start_date = end_date - dt.timedelta(days=day_last)    # 含起止共100天\n",
    "\n",
    "data_Folder = \"Simulated_data\\\\\"\n",
    "os.makedirs(data_Folder,exist_ok=True)\n"
   ]
  },
  {
   "cell_type": "code",
   "execution_count": 2,
   "id": "81b4aa77",
   "metadata": {},
   "outputs": [
    {
     "name": "stdout",
     "output_type": "stream",
     "text": [
      "Requesting: https://archive-api.open-meteo.com/v1/era5?latitude=39.9042&longitude=116.4074&start_date=2024-11-25&end_date=2025-09-20&hourly=temperature_2m&timezone=Asia%2FShanghai&temperature_unit=celsius\n",
      "7200\n"
     ]
    }
   ],
   "source": [
    "\n",
    "# ---- 2) 构造 Open-Meteo 历史API请求（ERA5 或 IFS，免 key）----\n",
    "lat, lon = 39.9042, 116.4074  # 北京\n",
    "base = \"https://archive-api.open-meteo.com/v1/era5\"\n",
    "params = {\n",
    "    \"latitude\": f\"{lat:.4f}\",\n",
    "    \"longitude\": f\"{lon:.4f}\",\n",
    "    \"start_date\": start_date.isoformat(),\n",
    "    \"end_date\": end_date.isoformat(),\n",
    "    \"hourly\": \"temperature_2m\",\n",
    "    \"timezone\": TZ,\n",
    "    \"temperature_unit\": \"celsius\",\n",
    "}\n",
    "url = base + \"?\" + urllib.parse.urlencode(params)\n",
    "print(\"Requesting:\", url)\n",
    "\n",
    "# ---- 3) 拉取每小时温度 JSON ----\n",
    "with urllib.request.urlopen(url, timeout=60) as r:\n",
    "    data = json.load(r)\n",
    "\n",
    "# 基本校验\n",
    "hourly = data.get(\"hourly\", {})\n",
    "times = hourly.get(\"time\", [])\n",
    "temps = hourly.get(\"temperature_2m\", [])\n",
    "if not times or not temps or len(times) != len(temps):\n",
    "    raise RuntimeError(\"API 返回异常或无数据\")\n",
    "\n",
    "# 按时间排序（通常已排序，这里稳妥起见）\n",
    "pairs = sorted(zip(times, temps))\n",
    "times_sorted = [t for t, _ in pairs]\n",
    "temps_sorted = np.array([v for _, v in pairs], dtype=float)\n",
    "\n",
    "# 计算应有的小时点个数：100天 * 24 = 2400\n",
    "expected_hours = day_last * 24\n",
    "if len(temps_sorted) < expected_hours:\n",
    "    print(f\"Warning: 返回小时数 {len(temps_sorted)} < 预期 {expected_hours}，\"\n",
    "          \"可能因近几天数据延迟。可把 end_date 再往前推几天重试。\", file=sys.stderr)\n",
    "print(len(temps_sorted))\n"
   ]
  },
  {
   "cell_type": "code",
   "execution_count": null,
   "id": "653408e7",
   "metadata": {},
   "outputs": [
    {
     "name": "stdout",
     "output_type": "stream",
     "text": [
      "Half-hourly points: 14400\n",
      "data\\Saved: beijing_temp_halfhour.npy\n"
     ]
    }
   ],
   "source": [
    "# ---- 4) 用线性插值把“每小时” → “每半小时”（4800点）----\n",
    "# 小时索引：0,1,2,...,H-1\n",
    "H = len(temps_sorted)\n",
    "x = np.arange(H, dtype=float)\n",
    "\n",
    "# 目标半小时索引：0,0.5,1.0,1.5,...,H-1.0\n",
    "x_half = np.arange(0, H, 0.5, dtype=float)\n",
    "# 线性插值\n",
    "y_half = np.interp(x_half, x, temps_sorted)\n",
    "\n",
    "# 若恰好等于100天，则应为 4800 点\n",
    "print(\"Half-hourly points:\", y_half.size)\n",
    "\n",
    "# ---- 5) 保存为 npy 文件 ----\n",
    "np.save(data_Folder+\"beijing_temp_halfhour_\"+str(day_last)+\".npy\", y_half)\n",
    "print(\"data\\\\Saved: beijing_temp_halfhour.npy\")\n"
   ]
  }
 ],
 "metadata": {
  "kernelspec": {
   "display_name": "HLF",
   "language": "python",
   "name": "python3"
  },
  "language_info": {
   "codemirror_mode": {
    "name": "ipython",
    "version": 3
   },
   "file_extension": ".py",
   "mimetype": "text/x-python",
   "name": "python",
   "nbconvert_exporter": "python",
   "pygments_lexer": "ipython3",
   "version": "3.9.21"
  }
 },
 "nbformat": 4,
 "nbformat_minor": 5
}
