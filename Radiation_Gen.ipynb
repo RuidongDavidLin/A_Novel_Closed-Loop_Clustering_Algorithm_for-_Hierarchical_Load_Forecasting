{
 "cells": [
  {
   "cell_type": "code",
   "execution_count": 1,
   "id": "11fcfb0b",
   "metadata": {},
   "outputs": [
    {
     "name": "stdout",
     "output_type": "stream",
     "text": [
      "['PV']\n"
     ]
    }
   ],
   "source": [
    "import numpy as np\n",
    "\n",
    "data = np.load(\"PV_data.npz\",allow_pickle=False)\n",
    "print(data.files)\n",
    "data = data['PV']\n",
    "Radiation = data.mean(axis=0)\n",
    "Radiation = Radiation.reshape(-1,2).sum(axis=1)\n",
    "Radiation_new = Radiation.reshape(-1,48)\n",
    "Radiation_new[:,42:] = 0\n",
    "Radiation_new[:,:8] = 0\n",
    "std = Radiation_new.std(axis=0)\n",
    "mean = Radiation_new.mean(axis=0)\n",
    "\n",
    "# print(Radiation_new[:,0].shape)\n",
    "\n",
    "for idx in range(48):\n",
    "    x = np.random.normal(loc=(std[idx]/10)*3, scale=std[idx]/10, size=366)\n",
    "    Radiation_new[:,idx] += x\n",
    "\n",
    "np.savez_compressed('Radiation',Radiation=Radiation_new.reshape(-1))"
   ]
  }
 ],
 "metadata": {
  "kernelspec": {
   "display_name": "HLF",
   "language": "python",
   "name": "python3"
  },
  "language_info": {
   "codemirror_mode": {
    "name": "ipython",
    "version": 3
   },
   "file_extension": ".py",
   "mimetype": "text/x-python",
   "name": "python",
   "nbconvert_exporter": "python",
   "pygments_lexer": "ipython3",
   "version": "3.9.21"
  }
 },
 "nbformat": 4,
 "nbformat_minor": 5
}
