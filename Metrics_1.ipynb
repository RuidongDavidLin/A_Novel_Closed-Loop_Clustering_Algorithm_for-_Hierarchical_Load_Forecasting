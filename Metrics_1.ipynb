{
 "cells": [
  {
   "cell_type": "code",
   "execution_count": 1,
   "id": "c22d50ad",
   "metadata": {},
   "outputs": [
    {
     "name": "stdout",
     "output_type": "stream",
     "text": [
      "                     MAE      MAPE\n",
      "CLC           363.025466  4.260655\n",
      "Ensemble      367.818850  4.287441\n",
      "GMM           445.085696  5.218291\n",
      "K-means       444.981475  5.217010\n",
      "Up_to_Down    444.519623  5.211768\n",
      "Bottom_to_Up  445.848959  5.226899\n"
     ]
    }
   ],
   "source": [
    "import os\n",
    "import numpy as np\n",
    "import pandas as pd\n",
    "\n",
    "\n",
    "\n",
    "\n",
    "path    = \"Process_1\\\\\"\n",
    "methods = ['CLC', 'Ensemble', 'GMM', 'K-means', 'Up_to_Down', 'Bottom_to_Up']\n",
    "\n",
    "Metrics_data = {method:{\"MAE\":None,\"MAPE\":None} for method in methods}\n",
    "\n",
    "for method in methods:\n",
    "    MAE     = 0\n",
    "    MAPE    = 0\n",
    "    for data_idx in range(1,11):\n",
    "        pred = np.load(path+method+\"\\\\\"+\"predict_result_\"+str(data_idx)+\".npy\")\n",
    "        test = np.load(path+method+\"\\\\\"+\"test_result_\"+str(data_idx)+\".npy\")\n",
    "        # print(pred.shape)\n",
    "        # print(test.shape)\n",
    "        MAE  += np.mean(np.abs(pred-test))\n",
    "        MAPE += np.mean(np.abs(pred-test)/test)*100\n",
    "    Metrics_data[method]['MAE'] = MAE/10\n",
    "    Metrics_data[method]['MAPE'] = MAPE/10\n",
    "\n",
    "\n",
    "df = pd.DataFrame(Metrics_data).T  # 转置，让方法名在行上\n",
    "print(df)"
   ]
  },
  {
   "cell_type": "code",
   "execution_count": 2,
   "id": "52f8e9f9",
   "metadata": {},
   "outputs": [
    {
     "name": "stdout",
     "output_type": "stream",
     "text": [
      "\n",
      "Formatted LaTeX table rows:\n",
      "\n",
      "CLC          &    363.025 &   4.261\\% \\\\\n",
      "Ensemble     &    367.819 &   4.287\\% \\\\\n",
      "GMM          &    445.086 &   5.218\\% \\\\\n",
      "K-means      &    444.981 &   5.217\\% \\\\\n",
      "Up to Down   &    444.520 &   5.212\\% \\\\\n",
      "Bottom to Up &    445.849 &   5.227\\% \\\\\n"
     ]
    }
   ],
   "source": [
    "print(\"\\nFormatted LaTeX table rows:\\n\")\n",
    "\n",
    "for method, row in df.iterrows():\n",
    "    print(f\"{method.replace('_', ' '):<13}& {row['MAE']:>10.3f} & {row['MAPE']:>7.3f}\\\\% \\\\\\\\\")"
   ]
  },
  {
   "cell_type": "markdown",
   "id": "8fdf20f9",
   "metadata": {},
   "source": [
    "                   MAE      MAPE\n",
    "CLC         862.737596  1.261305\n",
    "Ensemble    319.313542  0.469683\n",
    "GMM         862.737600  1.261305\n",
    "K-means     862.737600  1.261305\n",
    "Up_to_Down  862.897448  1.261527"
   ]
  }
 ],
 "metadata": {
  "kernelspec": {
   "display_name": "HLF",
   "language": "python",
   "name": "python3"
  },
  "language_info": {
   "codemirror_mode": {
    "name": "ipython",
    "version": 3
   },
   "file_extension": ".py",
   "mimetype": "text/x-python",
   "name": "python",
   "nbconvert_exporter": "python",
   "pygments_lexer": "ipython3",
   "version": "3.9.21"
  }
 },
 "nbformat": 4,
 "nbformat_minor": 5
}
